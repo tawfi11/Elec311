{
 "cells": [
  {
   "cell_type": "markdown",
   "metadata": {
    "nbgrader": {
     "grade": false,
     "grade_id": "cell-afb6b9ad15ea8620",
     "locked": true,
     "schema_version": 3,
     "solution": false,
     "task": false
    }
   },
   "source": [
    "# Preface\n",
    "\n",
    "Welcome to this introduction to Jupyter Notebook. This is an interactive web-based programming platform which allows you, the student, to write and execute Python code from the comfort of your web browser.\n",
    "\n",
    "Do not despair if you don't have prior experience with Python. Since you most certainly have C and MATLAB experience from previous courses, picking up Python is very straightforward. This assignment aims to get you familiar with the Python language as well as the Jupyter Notebook interface."
   ]
  },
  {
   "cell_type": "raw",
   "metadata": {
    "nbgrader": {
     "grade": false,
     "grade_id": "cell-04f64feb2abd5f54",
     "locked": true,
     "schema_version": 3,
     "solution": false,
     "task": false
    }
   },
   "source": [
    "# Running Code on Jupyter\n",
    "\n",
    "Run the currently focused code block by pressing the \"Run\" button at the top toolbar. The terminal outputs of the code is printed below the code block after it has been run."
   ]
  },
  {
   "cell_type": "code",
   "execution_count": 6,
   "metadata": {},
   "outputs": [
    {
     "name": "stdout",
     "output_type": "stream",
     "text": [
      "When you run this code block, the printed outputs should be shown below the code block.\n",
      "Hello World!\n"
     ]
    }
   ],
   "source": [
    "print('When you run this code block, the printed outputs should be shown below the code block.')\n",
    "print('Hello World!')"
   ]
  },
  {
   "cell_type": "markdown",
   "metadata": {
    "nbgrader": {
     "grade": false,
     "grade_id": "cell-e51140df522bed15",
     "locked": true,
     "schema_version": 3,
     "solution": false,
     "task": false
    }
   },
   "source": [
    "You may also change the content of code blocks:"
   ]
  },
  {
   "cell_type": "code",
   "execution_count": 7,
   "metadata": {},
   "outputs": [
    {
     "name": "stdout",
     "output_type": "stream",
     "text": [
      "Who are you?\n",
      "I'm [insert your name here!]\n"
     ]
    }
   ],
   "source": [
    "print('Who are you?')\n",
    "print('I\\'m [insert your name here!]')"
   ]
  },
  {
   "cell_type": "markdown",
   "metadata": {
    "nbgrader": {
     "grade": false,
     "grade_id": "cell-b8f4d2937590dd80",
     "locked": true,
     "schema_version": 3,
     "solution": false,
     "task": false
    }
   },
   "source": [
    "If you run code that contains errors, descriptive debugging messages would be shown below the code block. Run the following and have a look yourself. Then fix the code (it's missing a closing parenthesis at the end) and run it again."
   ]
  },
  {
   "cell_type": "code",
   "execution_count": 8,
   "metadata": {},
   "outputs": [
    {
     "name": "stdout",
     "output_type": "stream",
     "text": [
      "This code block contains errors. Please try to fix me!\n"
     ]
    }
   ],
   "source": [
    "print('This code block contains errors. Please try to fix me!')"
   ]
  },
  {
   "cell_type": "markdown",
   "metadata": {
    "nbgrader": {
     "grade": false,
     "grade_id": "cell-f3cfe75e108a0d51",
     "locked": true,
     "schema_version": 3,
     "solution": false,
     "task": false
    }
   },
   "source": [
    "# Introduction to Python\n",
    "\n",
    "First, we try our best to bridge the gap between Python and languages that you've been exposed to in past courses. Note that although Python is an object-oriented languaged (i.e. you may create class structures with Python), we will stick with functional programming in Jupyter Notebook assignments to keep things simple.\n",
    "\n",
    "## Declaring and Using Variables\n",
    "\n",
    "Python, like MATLAB, is a dynamically typed language. Variable declaration as simple as:"
   ]
  },
  {
   "cell_type": "code",
   "execution_count": 11,
   "metadata": {},
   "outputs": [],
   "source": [
    "# declare a few variables\n",
    "some_int = 42\n",
    "some_float = 3.14159\n",
    "some_str = 'Hello World'\n",
    "\n",
    "# by the way, you may add comments by using the hash (#) symbol"
   ]
  },
  {
   "cell_type": "markdown",
   "metadata": {
    "nbgrader": {
     "grade": false,
     "grade_id": "cell-9d3bc4113bdb2cf9",
     "locked": true,
     "schema_version": 3,
     "solution": false,
     "task": false
    }
   },
   "source": [
    "The variables are accessed by name. Here, we print them with the `print()` function in a number of ways. Read the comments above each print statement to see what is done!"
   ]
  },
  {
   "cell_type": "code",
   "execution_count": 13,
   "metadata": {},
   "outputs": [
    {
     "name": "stdout",
     "output_type": "stream",
     "text": [
      "Hello World\n",
      "1. The content of some_int is  42 , but this is a rather cumbersome syntax.\n",
      "2. The content of some_int is 42. This concise string formatting is often referred to as f-string (note the 'f' prefix in the print statement).\n",
      "3. The content of some_float, with precision formatting, is  3.1416\n"
     ]
    }
   ],
   "source": [
    "# 0. straightforward variable printing\n",
    "print(some_str)\n",
    "\n",
    "# 1. printing with mixed strings and variable\n",
    "print('1. The content of some_int is ', some_int, ', but this is a rather cumbersome syntax.')\n",
    "\n",
    "# 2. printing with mixed strings and variable via formatted string literal (a.k.a. f-string)\n",
    "print(f'2. The content of some_int is {some_int}. This concise string formatting is often referred to as f-string (note the \\'f\\' prefix in the print statement).')\n",
    "\n",
    "# 3. floats can also be formatted by {var_name:string_width.precision}\n",
    "print(f'3. The content of some_float, with precision formatting, is {some_float:7.5}')"
   ]
  },
  {
   "cell_type": "markdown",
   "metadata": {
    "nbgrader": {
     "grade": false,
     "grade_id": "cell-6ad78c00e49780d0",
     "locked": true,
     "schema_version": 3,
     "solution": false,
     "task": false
    }
   },
   "source": [
    "You may refer to the official Python documentation for more [details and examples](https://docs.python.org/3.6/reference/lexical_analysis.html#f-strings) on the usage of f-string."
   ]
  },
  {
   "cell_type": "markdown",
   "metadata": {
    "nbgrader": {
     "grade": false,
     "grade_id": "cell-c8549f8d1d637296",
     "locked": true,
     "schema_version": 3,
     "solution": false,
     "task": false
    }
   },
   "source": [
    "Python lists are also very straightforward:"
   ]
  },
  {
   "cell_type": "code",
   "execution_count": 14,
   "metadata": {},
   "outputs": [
    {
     "name": "stdout",
     "output_type": "stream",
     "text": [
      "On the 1D list...\n",
      "Print the element at index 0: 0\n",
      "Print elements at indices 2 to 5 (excluding 5): [1, 2, 3]\n",
      "Print the last element: 55\n",
      "Print elements 5 till the end: [5, 8, 13, 21, 34, 55]\n",
      "\n",
      "On the 2D list...\n",
      "Print a specific element: 6\n",
      "Print the first row: [1, 2, 3]\n"
     ]
    }
   ],
   "source": [
    "# reset the Python environment\n",
    "%reset -f\n",
    "\n",
    "# 1D list\n",
    "one_d_list = [0, 1, 1, 2, 3, 5, 8, 13, 21, 34, 55]\n",
    "\n",
    "# 2D list\n",
    "two_d_list = [[1, 2, 3], [4, 5, 6], [7, 8, 9]]\n",
    "\n",
    "# access specific elements\n",
    "# note that whereas MATLAB indices start at 1, Python indices start at 0\n",
    "print('On the 1D list...')\n",
    "print(f'Print the element at index 0: {one_d_list[0]}')\n",
    "print(f'Print elements at indices 2 to 5 (excluding 5): {one_d_list[2:5]}')\n",
    "print(f'Print the last element: {one_d_list[-1]}')\n",
    "print(f'Print elements 5 till the end: {one_d_list[5:]}')\n",
    "      \n",
    "\n",
    "print('\\nOn the 2D list...')\n",
    "print(f'Print a specific element: {two_d_list[1][2]}')\n",
    "print(f'Print the first row: {two_d_list[0]}')"
   ]
  },
  {
   "cell_type": "markdown",
   "metadata": {
    "nbgrader": {
     "grade": false,
     "grade_id": "cell-72515865df1aaf74",
     "locked": true,
     "schema_version": 3,
     "solution": false,
     "task": false
    }
   },
   "source": [
    "However, Python lists are not meant for mathematical operations..."
   ]
  },
  {
   "cell_type": "code",
   "execution_count": 15,
   "metadata": {},
   "outputs": [
    {
     "name": "stdout",
     "output_type": "stream",
     "text": [
      "Can we just treat lists like vectors and perform a vector summation?\n",
      "a = [1, 2, 3]\n",
      "b = [4, 5, 6]\n",
      "a+b = [1, 2, 3, 4, 5, 6]\n",
      "\n",
      "a+b merely concatenated the lists, but we want vector summation!\n"
     ]
    }
   ],
   "source": [
    "print('Can we just treat lists like vectors and perform a vector summation?')\n",
    "\n",
    "a = [1,2,3]\n",
    "b = [4,5,6]\n",
    "print(f'a = {a}')\n",
    "print(f'b = {b}')\n",
    "print(f'a+b = {a+b}')\n",
    "\n",
    "print('\\na+b merely concatenated the lists, but we want vector summation!')"
   ]
  },
  {
   "cell_type": "markdown",
   "metadata": {
    "nbgrader": {
     "grade": false,
     "grade_id": "cell-3f4fe2445cc817ae",
     "locked": true,
     "schema_version": 3,
     "solution": false,
     "task": false
    }
   },
   "source": [
    "NumPy to the rescue. NumPy is a mathematical library that provides many essential numerical computation features for Python. You may import it by `import numpy` and access its functions by `numpy.function_name()`. You may also save some keystrokes by importing it with an alias, e.g. `import numpy as np` and access its functions by `np.function_name()`. Here are some examples:"
   ]
  },
  {
   "cell_type": "code",
   "execution_count": 16,
   "metadata": {},
   "outputs": [
    {
     "name": "stdout",
     "output_type": "stream",
     "text": [
      "Vector summation...\n",
      "a = [1 2 3]\n",
      "b = [4 5 6]\n",
      "a+b = [5 7 9]\n",
      "Success!\n",
      "\n",
      "Matrix vector multiplication...\n",
      "M = \n",
      "[[1 2 3]\n",
      " [4 5 6]\n",
      " [7 8 9]]\n",
      "v = [1 3 5]\n",
      "Mv inner product = [22 49 76]\n",
      "Success!\n"
     ]
    }
   ],
   "source": [
    "# reset the Python environment\n",
    "%reset -f\n",
    "\n",
    "import numpy as np\n",
    "\n",
    "print('Vector summation...')\n",
    "\n",
    "a = np.array([1,2,3])\n",
    "b = np.array([4,5,6])\n",
    "absum = a + b  # this line sums the vectors and stores them in the variable absum\n",
    "\n",
    "print(f'a = {a}')\n",
    "print(f'b = {b}')\n",
    "print(f'a+b = {absum}')\n",
    "print('Success!\\n')\n",
    "\n",
    "print('Matrix vector multiplication...')\n",
    "\n",
    "M = np.array([[1,2,3], [4,5,6], [7,8,9]])\n",
    "v = np.array([1,3,5])\n",
    "mvprod = np.inner(M, v)  # this line computes the inner product of vectors M and v and stores them in mvprod\n",
    "\n",
    "print(f'M = \\n{M}')\n",
    "print(f'v = {v}')\n",
    "print(f'Mv inner product = {mvprod}')\n",
    "print('Success!')"
   ]
  },
  {
   "cell_type": "markdown",
   "metadata": {
    "nbgrader": {
     "grade": false,
     "grade_id": "cell-ea6d144f8b019b0a",
     "locked": true,
     "schema_version": 3,
     "solution": false,
     "task": false
    }
   },
   "source": [
    "We will drop hints and useful NumPy usage references as needed in future Jupyter Notebook assignments, so don't worry if all this is very new to you."
   ]
  },
  {
   "cell_type": "markdown",
   "metadata": {
    "nbgrader": {
     "grade": false,
     "grade_id": "cell-b1f0f4e8c50c0c0d",
     "locked": true,
     "schema_version": 3,
     "solution": false,
     "task": false
    }
   },
   "source": [
    "## Python Conditions and Loops\n",
    "\n",
    "### if, else, elif\n",
    "\n",
    "The following examples illustrate the syntax of conditional blocks. The body of `if` statements need to be indented. Unindenting indicates the end of the conditional body."
   ]
  },
  {
   "cell_type": "code",
   "execution_count": 17,
   "metadata": {},
   "outputs": [
    {
     "name": "stdout",
     "output_type": "stream",
     "text": [
      "Compare the values of a=4 and b=2...\n",
      "a is greater than b\n",
      "The conditional block has ended, this statement gets printed regardless.\n"
     ]
    }
   ],
   "source": [
    "# reset the Python environment\n",
    "%reset -f\n",
    "\n",
    "a = 4\n",
    "b = 2\n",
    "\n",
    "print(f'Compare the values of a={a} and b={b}...')\n",
    "\n",
    "if a > b:\n",
    "    # code that will run inside an if block must be indented\n",
    "    print('a is greater than b')\n",
    "elif a == b:\n",
    "    # elif is equivalent to \"else if\" in C and \"elseif\" in MATLAB\n",
    "    print('a equals b')\n",
    "else:\n",
    "    print('a is less than b')\n",
    "    \n",
    "# once you've unindented, the conditional block ends\n",
    "print('The conditional block has ended, this statement gets printed regardless.')"
   ]
  },
  {
   "cell_type": "markdown",
   "metadata": {},
   "source": [
    "### for loops\n",
    "\n",
    "Here's how you create for loops:"
   ]
  },
  {
   "cell_type": "code",
   "execution_count": 18,
   "metadata": {},
   "outputs": [
    {
     "name": "stdout",
     "output_type": "stream",
     "text": [
      "The range() function creates a sequence of numbers. If only a single parameter, N, is provided, the sequence 0 to N-1 consisting of N numbers would be created.\n",
      "Here, the for loop iterates through the sequence generated by range(5), assigns the value to variable i, and prints it.\n",
      "0\n",
      "1\n",
      "2\n",
      "3\n",
      "4\n",
      "\n",
      "This time, the loop iterates through the sequence generated by range(0,50,10) and prints it.\n",
      "0\n",
      "10\n",
      "20\n",
      "30\n",
      "40\n"
     ]
    }
   ],
   "source": [
    "# reset the Python environment\n",
    "%reset -f\n",
    "\n",
    "print('The range() function creates a sequence of numbers. If only a single parameter, N, is provided, '\n",
    "     'the sequence 0 to N-1 consisting of N numbers would be created.')\n",
    "\n",
    "print('Here, the for loop iterates through the sequence generated by range(5), assigns the value to variable '\n",
    "      'i, and prints it.')\n",
    "\n",
    "# for loop\n",
    "for i in range(5):\n",
    "    print(i)\n",
    "    \n",
    "print('\\nThis time, the loop iterates through the sequence generated by range(0,50,10) and prints it.')\n",
    "\n",
    "for i in range(0,50,10):\n",
    "    print(i)"
   ]
  },
  {
   "cell_type": "markdown",
   "metadata": {
    "nbgrader": {
     "grade": false,
     "grade_id": "cell-63cb496693f9e3dc",
     "locked": true,
     "schema_version": 3,
     "solution": false,
     "task": false
    }
   },
   "source": [
    "Please refer to the official `range()` [usage reference](https://docs.python.org/3.3/library/stdtypes.html?highlight=range#range) for helpful examples."
   ]
  },
  {
   "cell_type": "markdown",
   "metadata": {
    "nbgrader": {
     "grade": false,
     "grade_id": "cell-b697988fec9de58d",
     "locked": true,
     "schema_version": 3,
     "solution": false,
     "task": false
    }
   },
   "source": [
    "## Declaring and Calling Functions\n",
    "\n",
    "In Python, functions are declared with the `def` keyword:"
   ]
  },
  {
   "cell_type": "code",
   "execution_count": 19,
   "metadata": {},
   "outputs": [
    {
     "name": "stdout",
     "output_type": "stream",
     "text": [
      "some_func has been called\n",
      "another_func has been called.\n",
      "param1 is of type <class 'int'> with value 42\n",
      "param2 is of type <class 'float'> with value 3.14\n"
     ]
    }
   ],
   "source": [
    "# reset the Python environment\n",
    "%reset -f\n",
    "\n",
    "# a simple Python function that takes no input parameters and doesn't return anything\n",
    "def some_func():\n",
    "    # contents of a function must be indented\n",
    "    print('some_func has been called')\n",
    "    \n",
    "# a Python function that takes two input parameters\n",
    "# this time, we also include a docstring which provides documentaiton for this function\n",
    "def another_func(param1, param2):\n",
    "    '''\n",
    "    Prints the type and value of the two input parameters.\n",
    "    \n",
    "    Parameters:\n",
    "        param1: Some parameter\n",
    "        param2: Another parameter\n",
    "    '''\n",
    "    print(f'another_func has been called.')\n",
    "    print(f'param1 is of type {type(param1)} with value {param1}')\n",
    "    print(f'param2 is of type {type(param2)} with value {param2}')\n",
    "    \n",
    "# call the functions\n",
    "some_func()\n",
    "another_func(42, 3.14)"
   ]
  },
  {
   "cell_type": "markdown",
   "metadata": {
    "nbgrader": {
     "grade": false,
     "grade_id": "cell-611377492559f08f",
     "locked": true,
     "schema_version": 3,
     "solution": false,
     "task": false
    }
   },
   "source": [
    "---\n",
    "# Exercises\n",
    "\n",
    "Exercises found in Jupyter Notebooks in this course are are designed to provide useful practice and intuition, and are ungraded. However, quizzes and assessment tests may test on such concepts.\n",
    "\n",
    "Do not confuse these exercises with JN Mini Quizzes on Canvas, those are graded."
   ]
  },
  {
   "cell_type": "markdown",
   "metadata": {
    "nbgrader": {
     "grade": false,
     "grade_id": "cell-498b33613c9f9131",
     "locked": true,
     "schema_version": 3,
     "solution": false,
     "task": false
    }
   },
   "source": [
    "## Problem 1\n",
    "\n",
    "Write a function that computes the area of a circle using the provided radius, $r$, rounded to 2 decimal places.\n",
    "\n",
    "You can assume that $r > 0$.\n",
    "\n",
    "Hints:\n",
    "* Use `np.pi` to get the $\\pi$ constant, e.g. `circumference = 2 * np.pi * r`.\n",
    "* The exponent operator in Python is `**`, e.g. $x^3$ can be represented by `x**3`.\n",
    "* Use the function `np.around` to round numbers ([doc](https://numpy.org/doc/stable/reference/generated/numpy.around.html))."
   ]
  },
  {
   "cell_type": "code",
   "execution_count": 31,
   "metadata": {
    "nbgrader": {
     "grade": false,
     "grade_id": "area_of_circ",
     "locked": false,
     "schema_version": 3,
     "solution": true,
     "task": false
    }
   },
   "outputs": [],
   "source": [
    "# reset the Python environment\n",
    "%reset -f\n",
    "\n",
    "import numpy as np\n",
    "\n",
    "def area_of_circ(r):\n",
    "    '''\n",
    "    Return the area of a circle with the provided radius.\n",
    "    \n",
    "    Parameters:\n",
    "        r: radius of the circle\n",
    "    \n",
    "    Returns:\n",
    "        Area of the circle rounded to 2 decimal places.\n",
    "    '''\n",
    "    ### implement the function\n",
    "    return np.around(np.pi * r**2, 2)"
   ]
  },
  {
   "cell_type": "markdown",
   "metadata": {
    "nbgrader": {
     "grade": false,
     "grade_id": "cell-cc7fd08d7acef49d",
     "locked": true,
     "schema_version": 3,
     "solution": false,
     "task": false
    }
   },
   "source": [
    "Your function should return `78.54` for $r = 5$. Check below:"
   ]
  },
  {
   "cell_type": "code",
   "execution_count": 32,
   "metadata": {},
   "outputs": [
    {
     "data": {
      "text/plain": [
       "78.54"
      ]
     },
     "execution_count": 32,
     "metadata": {},
     "output_type": "execute_result"
    }
   ],
   "source": [
    "area_of_circ(5)"
   ]
  },
  {
   "cell_type": "markdown",
   "metadata": {
    "nbgrader": {
     "grade": false,
     "grade_id": "cell-565844ff461c28ed",
     "locked": true,
     "schema_version": 3,
     "solution": false,
     "task": false
    }
   },
   "source": [
    "---\n",
    "## Problem 2\n",
    "\n",
    "A Fibonacci sequence is a sequence of Fibonacci numbers, $F_n$, where each number is the sum of the two preceding ones. The first two Fibonacci numbers are set to be $F_0 = 0$ and $F_1 = 1$, with subsequent Fibonacci numbers given by $F_n = F_{n-1} + F_{n-2}$. The beginning of the sequence is:\n",
    "\n",
    "$0, 1, 1, 2, 3, 5, 8, 13, 21, 34, 55, 89, 144, ...$\n",
    "\n",
    "See the [Wikipedia page](https://en.wikipedia.org/wiki/Fibonacci_number) on it to learn more.\n",
    "\n",
    "For this problem, generate a Fibonacci sequence of the specified length, $n$, as a list of integers. You can assume that $n \\geq 1$. Use Python's built-in list type, do not use a numpy array.\n",
    "\n",
    "Hints:\n",
    "* Declare an empty list by `some_list = []`.\n",
    "* Append an item to a list by `some_list.append(42)`."
   ]
  },
  {
   "cell_type": "code",
   "execution_count": 37,
   "metadata": {
    "nbgrader": {
     "grade": false,
     "grade_id": "fibonacci",
     "locked": false,
     "schema_version": 3,
     "solution": true,
     "task": false
    }
   },
   "outputs": [],
   "source": [
    "# reset the Python environment\n",
    "%reset -f\n",
    "\n",
    "def fibonacci_seq(n):\n",
    "    '''\n",
    "    Return a Fibonacci sequence of the specified length.\n",
    "    \n",
    "    Parameters:\n",
    "        n: the length of the Fibonacci sequence\n",
    "        \n",
    "    Returns:\n",
    "        A Fibonacci sequence of length n.\n",
    "    '''\n",
    "    ### implement the function\n",
    "    fseq = []\n",
    "    for i in range(n):\n",
    "        if i == 0:\n",
    "            fseq.append(0)\n",
    "        elif i == 1:\n",
    "            fseq.append(1)\n",
    "        else:\n",
    "            fseq.append(fseq[i-1] + fseq[i-2])\n",
    "    \n",
    "    return fseq"
   ]
  },
  {
   "cell_type": "markdown",
   "metadata": {
    "nbgrader": {
     "grade": false,
     "grade_id": "cell-f089cc09083bb487",
     "locked": true,
     "schema_version": 3,
     "solution": false,
     "task": false
    }
   },
   "source": [
    "Your function should return `[0, 1, 1, 2, 3, 5, 8]` for `n=7`. Check below:"
   ]
  },
  {
   "cell_type": "code",
   "execution_count": 39,
   "metadata": {},
   "outputs": [
    {
     "data": {
      "text/plain": [
       "[0, 1, 1, 2, 3, 5, 8, 13, 21, 34, 55, 89, 144, 233, 377, 610, 987]"
      ]
     },
     "execution_count": 39,
     "metadata": {},
     "output_type": "execute_result"
    }
   ],
   "source": [
    "fibonacci_seq(17)"
   ]
  },
  {
   "cell_type": "code",
   "execution_count": null,
   "metadata": {},
   "outputs": [],
   "source": []
  }
 ],
 "metadata": {
  "celltoolbar": "Create Assignment",
  "kernelspec": {
   "display_name": "Python 3",
   "language": "python",
   "name": "python3"
  },
  "language_info": {
   "codemirror_mode": {
    "name": "ipython",
    "version": 3
   },
   "file_extension": ".py",
   "mimetype": "text/x-python",
   "name": "python",
   "nbconvert_exporter": "python",
   "pygments_lexer": "ipython3",
   "version": "3.8.5"
  }
 },
 "nbformat": 4,
 "nbformat_minor": 4
}
